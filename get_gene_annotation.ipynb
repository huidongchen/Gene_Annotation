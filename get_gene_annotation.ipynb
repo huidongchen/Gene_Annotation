{
 "cells": [
  {
   "cell_type": "markdown",
   "metadata": {},
   "source": [
    "vignette https://www.bioconductor.org/packages/devel/bioc/vignettes/biomaRt/inst/doc/biomaRt.html"
   ]
  },
  {
   "cell_type": "markdown",
   "metadata": {},
   "source": [
    "GTF download link: https://www.gencodegenes.org/human/release_30lift37.html"
   ]
  },
  {
   "cell_type": "code",
   "execution_count": 1,
   "metadata": {},
   "outputs": [],
   "source": [
    "library(\"biomaRt\")"
   ]
  },
  {
   "cell_type": "code",
   "execution_count": 2,
   "metadata": {},
   "outputs": [
    {
     "data": {
      "text/html": [
       "<table>\n",
       "<caption>A data.frame: 4 × 2</caption>\n",
       "<thead>\n",
       "\t<tr><th scope=col>biomart</th><th scope=col>version</th></tr>\n",
       "\t<tr><th scope=col>&lt;chr&gt;</th><th scope=col>&lt;chr&gt;</th></tr>\n",
       "</thead>\n",
       "<tbody>\n",
       "\t<tr><td>ENSEMBL_MART_ENSEMBL</td><td>Ensembl Genes 96     </td></tr>\n",
       "\t<tr><td>ENSEMBL_MART_MOUSE  </td><td>Mouse strains 96     </td></tr>\n",
       "\t<tr><td>ENSEMBL_MART_SNP    </td><td>Ensembl Variation 96 </td></tr>\n",
       "\t<tr><td>ENSEMBL_MART_FUNCGEN</td><td>Ensembl Regulation 96</td></tr>\n",
       "</tbody>\n",
       "</table>\n"
      ],
      "text/latex": [
       "A data.frame: 4 × 2\n",
       "\\begin{tabular}{r|ll}\n",
       " biomart & version\\\\\n",
       " <chr> & <chr>\\\\\n",
       "\\hline\n",
       "\t ENSEMBL\\_MART\\_ENSEMBL & Ensembl Genes 96     \\\\\n",
       "\t ENSEMBL\\_MART\\_MOUSE   & Mouse strains 96     \\\\\n",
       "\t ENSEMBL\\_MART\\_SNP     & Ensembl Variation 96 \\\\\n",
       "\t ENSEMBL\\_MART\\_FUNCGEN & Ensembl Regulation 96\\\\\n",
       "\\end{tabular}\n"
      ],
      "text/markdown": [
       "\n",
       "A data.frame: 4 × 2\n",
       "\n",
       "| biomart &lt;chr&gt; | version &lt;chr&gt; |\n",
       "|---|---|\n",
       "| ENSEMBL_MART_ENSEMBL | Ensembl Genes 96      |\n",
       "| ENSEMBL_MART_MOUSE   | Mouse strains 96      |\n",
       "| ENSEMBL_MART_SNP     | Ensembl Variation 96  |\n",
       "| ENSEMBL_MART_FUNCGEN | Ensembl Regulation 96 |\n",
       "\n"
      ],
      "text/plain": [
       "  biomart              version              \n",
       "1 ENSEMBL_MART_ENSEMBL Ensembl Genes 96     \n",
       "2 ENSEMBL_MART_MOUSE   Mouse strains 96     \n",
       "3 ENSEMBL_MART_SNP     Ensembl Variation 96 \n",
       "4 ENSEMBL_MART_FUNCGEN Ensembl Regulation 96"
      ]
     },
     "metadata": {},
     "output_type": "display_data"
    }
   ],
   "source": [
    "listMarts()"
   ]
  },
  {
   "cell_type": "code",
   "execution_count": 3,
   "metadata": {},
   "outputs": [],
   "source": [
    "ensembl=useMart(\"ensembl\")"
   ]
  },
  {
   "cell_type": "code",
   "execution_count": 4,
   "metadata": {},
   "outputs": [],
   "source": [
    "datasets <- listDatasets(ensembl)"
   ]
  },
  {
   "cell_type": "code",
   "execution_count": 5,
   "metadata": {},
   "outputs": [
    {
     "data": {
      "text/html": [
       "<table>\n",
       "<caption>A data.frame: 11 × 3</caption>\n",
       "<thead>\n",
       "\t<tr><th></th><th scope=col>dataset</th><th scope=col>description</th><th scope=col>version</th></tr>\n",
       "\t<tr><th></th><th scope=col>&lt;I&lt;chr&gt;&gt;</th><th scope=col>&lt;I&lt;chr&gt;&gt;</th><th scope=col>&lt;I&lt;chr&gt;&gt;</th></tr>\n",
       "</thead>\n",
       "<tbody>\n",
       "\t<tr><th scope=row>70</th><td>hcomes_gene_ensembl           </td><td>Tiger tail seahorse genes (H_comes_QL1_v1)     </td><td>H_comes_QL1_v1   </td></tr>\n",
       "\t<tr><th scope=row>71</th><td>hfemale_gene_ensembl          </td><td>Naked mole-rat female genes (HetGla_female_1.0)</td><td>HetGla_female_1.0</td></tr>\n",
       "\t<tr><th scope=row>72</th><td>hmale_gene_ensembl            </td><td>Naked mole-rat male genes (HetGla_1.0)         </td><td>HetGla_1.0       </td></tr>\n",
       "\t<tr><th scope=row>73</th><td>hsapiens_gene_ensembl         </td><td>Human genes (GRCh38.p12)                       </td><td>GRCh38.p12       </td></tr>\n",
       "\t<tr><th scope=row>74</th><td>ipunctatus_gene_ensembl       </td><td>Channel catfish genes (IpCoco_1.2)             </td><td>IpCoco_1.2       </td></tr>\n",
       "\t<tr><th scope=row>75</th><td>itridecemlineatus_gene_ensembl</td><td>Squirrel genes (SpeTri2.0)                     </td><td>SpeTri2.0        </td></tr>\n",
       "\t<tr><th scope=row>76</th><td>jhyemalis_gene_ensembl        </td><td>Dark-eyed junco genes (ASM382977v1)            </td><td>ASM382977v1      </td></tr>\n",
       "\t<tr><th scope=row>77</th><td>jjaculus_gene_ensembl         </td><td>Lesser Egyptian jerboa genes (JacJac1.0)       </td><td>JacJac1.0        </td></tr>\n",
       "\t<tr><th scope=row>78</th><td>kmarmoratus_gene_ensembl      </td><td>Mangrove rivulus genes (ASM164957v1)           </td><td>ASM164957v1      </td></tr>\n",
       "\t<tr><th scope=row>79</th><td>lafricana_gene_ensembl        </td><td>Elephant genes (Loxafr3.0)                     </td><td>Loxafr3.0        </td></tr>\n",
       "\t<tr><th scope=row>80</th><td>lbergylta_gene_ensembl        </td><td>Ballan wrasse genes (BallGen_V1)               </td><td>BallGen_V1       </td></tr>\n",
       "</tbody>\n",
       "</table>\n"
      ],
      "text/latex": [
       "A data.frame: 11 × 3\n",
       "\\begin{tabular}{r|lll}\n",
       "  & dataset & description & version\\\\\n",
       "  & <I<chr>> & <I<chr>> & <I<chr>>\\\\\n",
       "\\hline\n",
       "\t70 & hcomes\\_gene\\_ensembl            & Tiger tail seahorse genes (H\\_comes\\_QL1\\_v1)      & H\\_comes\\_QL1\\_v1   \\\\\n",
       "\t71 & hfemale\\_gene\\_ensembl           & Naked mole-rat female genes (HetGla\\_female\\_1.0) & HetGla\\_female\\_1.0\\\\\n",
       "\t72 & hmale\\_gene\\_ensembl             & Naked mole-rat male genes (HetGla\\_1.0)          & HetGla\\_1.0       \\\\\n",
       "\t73 & hsapiens\\_gene\\_ensembl          & Human genes (GRCh38.p12)                        & GRCh38.p12       \\\\\n",
       "\t74 & ipunctatus\\_gene\\_ensembl        & Channel catfish genes (IpCoco\\_1.2)              & IpCoco\\_1.2       \\\\\n",
       "\t75 & itridecemlineatus\\_gene\\_ensembl & Squirrel genes (SpeTri2.0)                      & SpeTri2.0        \\\\\n",
       "\t76 & jhyemalis\\_gene\\_ensembl         & Dark-eyed junco genes (ASM382977v1)             & ASM382977v1      \\\\\n",
       "\t77 & jjaculus\\_gene\\_ensembl          & Lesser Egyptian jerboa genes (JacJac1.0)        & JacJac1.0        \\\\\n",
       "\t78 & kmarmoratus\\_gene\\_ensembl       & Mangrove rivulus genes (ASM164957v1)            & ASM164957v1      \\\\\n",
       "\t79 & lafricana\\_gene\\_ensembl         & Elephant genes (Loxafr3.0)                      & Loxafr3.0        \\\\\n",
       "\t80 & lbergylta\\_gene\\_ensembl         & Ballan wrasse genes (BallGen\\_V1)                & BallGen\\_V1       \\\\\n",
       "\\end{tabular}\n"
      ],
      "text/markdown": [
       "\n",
       "A data.frame: 11 × 3\n",
       "\n",
       "| <!--/--> | dataset &lt;I&lt;chr&gt;&gt; | description &lt;I&lt;chr&gt;&gt; | version &lt;I&lt;chr&gt;&gt; |\n",
       "|---|---|---|---|\n",
       "| 70 | hcomes_gene_ensembl            | Tiger tail seahorse genes (H_comes_QL1_v1)      | H_comes_QL1_v1    |\n",
       "| 71 | hfemale_gene_ensembl           | Naked mole-rat female genes (HetGla_female_1.0) | HetGla_female_1.0 |\n",
       "| 72 | hmale_gene_ensembl             | Naked mole-rat male genes (HetGla_1.0)          | HetGla_1.0        |\n",
       "| 73 | hsapiens_gene_ensembl          | Human genes (GRCh38.p12)                        | GRCh38.p12        |\n",
       "| 74 | ipunctatus_gene_ensembl        | Channel catfish genes (IpCoco_1.2)              | IpCoco_1.2        |\n",
       "| 75 | itridecemlineatus_gene_ensembl | Squirrel genes (SpeTri2.0)                      | SpeTri2.0         |\n",
       "| 76 | jhyemalis_gene_ensembl         | Dark-eyed junco genes (ASM382977v1)             | ASM382977v1       |\n",
       "| 77 | jjaculus_gene_ensembl          | Lesser Egyptian jerboa genes (JacJac1.0)        | JacJac1.0         |\n",
       "| 78 | kmarmoratus_gene_ensembl       | Mangrove rivulus genes (ASM164957v1)            | ASM164957v1       |\n",
       "| 79 | lafricana_gene_ensembl         | Elephant genes (Loxafr3.0)                      | Loxafr3.0         |\n",
       "| 80 | lbergylta_gene_ensembl         | Ballan wrasse genes (BallGen_V1)                | BallGen_V1        |\n",
       "\n"
      ],
      "text/plain": [
       "   dataset                       \n",
       "70 hcomes_gene_ensembl           \n",
       "71 hfemale_gene_ensembl          \n",
       "72 hmale_gene_ensembl            \n",
       "73 hsapiens_gene_ensembl         \n",
       "74 ipunctatus_gene_ensembl       \n",
       "75 itridecemlineatus_gene_ensembl\n",
       "76 jhyemalis_gene_ensembl        \n",
       "77 jjaculus_gene_ensembl         \n",
       "78 kmarmoratus_gene_ensembl      \n",
       "79 lafricana_gene_ensembl        \n",
       "80 lbergylta_gene_ensembl        \n",
       "   description                                     version          \n",
       "70 Tiger tail seahorse genes (H_comes_QL1_v1)      H_comes_QL1_v1   \n",
       "71 Naked mole-rat female genes (HetGla_female_1.0) HetGla_female_1.0\n",
       "72 Naked mole-rat male genes (HetGla_1.0)          HetGla_1.0       \n",
       "73 Human genes (GRCh38.p12)                        GRCh38.p12       \n",
       "74 Channel catfish genes (IpCoco_1.2)              IpCoco_1.2       \n",
       "75 Squirrel genes (SpeTri2.0)                      SpeTri2.0        \n",
       "76 Dark-eyed junco genes (ASM382977v1)             ASM382977v1      \n",
       "77 Lesser Egyptian jerboa genes (JacJac1.0)        JacJac1.0        \n",
       "78 Mangrove rivulus genes (ASM164957v1)            ASM164957v1      \n",
       "79 Elephant genes (Loxafr3.0)                      Loxafr3.0        \n",
       "80 Ballan wrasse genes (BallGen_V1)                BallGen_V1       "
      ]
     },
     "metadata": {},
     "output_type": "display_data"
    }
   ],
   "source": [
    "datasets[70:80,]"
   ]
  },
  {
   "cell_type": "code",
   "execution_count": 6,
   "metadata": {},
   "outputs": [],
   "source": [
    "ensembl = useMart(biomart=\"ENSEMBL_MART_ENSEMBL\", \n",
    "                  host=\"grch37.ensembl.org\", \n",
    "                  path=\"/biomart/martservice\",\n",
    "                  dataset=\"hsapiens_gene_ensembl\")"
   ]
  },
  {
   "cell_type": "code",
   "execution_count": 7,
   "metadata": {},
   "outputs": [
    {
     "name": "stdout",
     "output_type": "stream",
     "text": [
      "Formal class 'Mart' [package \"biomaRt\"] with 7 slots\n",
      "  ..@ biomart   : chr \"ENSEMBL_MART_ENSEMBL\"\n",
      "  ..@ host      : chr \"http://grch37.ensembl.org:80/biomart/martservice\"\n",
      "  ..@ vschema   : chr \"default\"\n",
      "  ..@ version   : chr(0) \n",
      "  ..@ dataset   : chr \"hsapiens_gene_ensembl\"\n",
      "  ..@ filters   :'data.frame':\t307 obs. of  9 variables:\n",
      "  .. ..$ name           : chr [1:307] \"chromosome_name\" \"start\" \"end\" \"band_start\" ...\n",
      "  .. ..$ description    : chr [1:307] \"Chromosome/scaffold name\" \"Start\" \"End\" \"Band Start\" ...\n",
      "  .. ..$ options        : chr [1:307] \"[1,2,3,4,5,6,7,8,9,10,11,12,13,14,15,16,17,18,19,20,21,22,GL000191.1,GL000192.1,GL000193.1,GL000194.1,GL000195.\"| __truncated__ \"[]\" \"[]\" \"[]\" ...\n",
      "  .. ..$ fullDescription: chr [1:307] \"\" \"Determine which base pair on the specified chromosome/scaffold to begin range\" \"Determine which base pair on the specified chromosome/scaffold to end range\" \"\" ...\n",
      "  .. ..$ filters        : chr [1:307] \"filters\" \"filters\" \"filters\" \"filters\" ...\n",
      "  .. ..$ type           : chr [1:307] \"text\" \"text\" \"text\" \"text\" ...\n",
      "  .. ..$ operation      : chr [1:307] \"=\" \">=\" \"<=\" \"=\" ...\n",
      "  .. ..$ filters8       : chr [1:307] \"hsapiens_gene_ensembl__gene__main\" \"hsapiens_gene_ensembl__gene__main\" \"hsapiens_gene_ensembl__gene__main\" \"pointer dataset\" ...\n",
      "  .. ..$ filters9       : chr [1:307] \"name_1059\" \"seq_region_end_1020\" \"seq_region_start_1020\" \"band_1027\" ...\n",
      "  ..@ attributes:'data.frame':\t1418 obs. of  7 variables:\n",
      "  .. ..$ name           : chr [1:1418] \"ensembl_gene_id\" \"ensembl_gene_id_version\" \"ensembl_transcript_id\" \"ensembl_transcript_id_version\" ...\n",
      "  .. ..$ description    : chr [1:1418] \"Gene stable ID\" \"Gene stable ID version\" \"Transcript stable ID\" \"Transcript stable ID version\" ...\n",
      "  .. ..$ fullDescription: chr [1:1418] \"Stable ID of the Gene\" \"Versionned stable ID of the Gene\" \"Stable ID of the Transcript\" \"Versionned stable ID of the Transcript\" ...\n",
      "  .. ..$ page           : chr [1:1418] \"feature_page\" \"feature_page\" \"feature_page\" \"feature_page\" ...\n",
      "  .. ..$ attributes5    : chr [1:1418] \"html,txt,csv,tsv,xls\" \"html,txt,csv,tsv,xls\" \"html,txt,csv,tsv,xls\" \"html,txt,csv,tsv,xls\" ...\n",
      "  .. ..$ attributes6    : chr [1:1418] \"hsapiens_gene_ensembl__gene__main\" \"hsapiens_gene_ensembl__gene__main\" \"hsapiens_gene_ensembl__transcript__main\" \"hsapiens_gene_ensembl__transcript__main\" ...\n",
      "  .. ..$ attributes7    : chr [1:1418] \"stable_id_1023\" \"gene__main_stable_id_version\" \"stable_id_1066\" \"transcript__main_stable_id_version\" ...\n"
     ]
    }
   ],
   "source": [
    "str(ensembl)"
   ]
  },
  {
   "cell_type": "code",
   "execution_count": 8,
   "metadata": {},
   "outputs": [
    {
     "data": {
      "text/html": [
       "<table>\n",
       "<caption>A data.frame: 1 × 3</caption>\n",
       "<thead>\n",
       "\t<tr><th></th><th scope=col>dataset</th><th scope=col>description</th><th scope=col>version</th></tr>\n",
       "\t<tr><th></th><th scope=col>&lt;I&lt;chr&gt;&gt;</th><th scope=col>&lt;I&lt;chr&gt;&gt;</th><th scope=col>&lt;I&lt;chr&gt;&gt;</th></tr>\n",
       "</thead>\n",
       "<tbody>\n",
       "\t<tr><th scope=row>26</th><td>hsapiens_gene_ensembl</td><td>Human genes (GRCh37.p13)</td><td>GRCh37.p13</td></tr>\n",
       "</tbody>\n",
       "</table>\n"
      ],
      "text/latex": [
       "A data.frame: 1 × 3\n",
       "\\begin{tabular}{r|lll}\n",
       "  & dataset & description & version\\\\\n",
       "  & <I<chr>> & <I<chr>> & <I<chr>>\\\\\n",
       "\\hline\n",
       "\t26 & hsapiens\\_gene\\_ensembl & Human genes (GRCh37.p13) & GRCh37.p13\\\\\n",
       "\\end{tabular}\n"
      ],
      "text/markdown": [
       "\n",
       "A data.frame: 1 × 3\n",
       "\n",
       "| <!--/--> | dataset &lt;I&lt;chr&gt;&gt; | description &lt;I&lt;chr&gt;&gt; | version &lt;I&lt;chr&gt;&gt; |\n",
       "|---|---|---|---|\n",
       "| 26 | hsapiens_gene_ensembl | Human genes (GRCh37.p13) | GRCh37.p13 |\n",
       "\n"
      ],
      "text/plain": [
       "   dataset               description              version   \n",
       "26 hsapiens_gene_ensembl Human genes (GRCh37.p13) GRCh37.p13"
      ]
     },
     "metadata": {},
     "output_type": "display_data"
    }
   ],
   "source": [
    "searchDatasets(mart = ensembl, pattern = \"hsapiens\")"
   ]
  },
  {
   "cell_type": "code",
   "execution_count": 9,
   "metadata": {},
   "outputs": [],
   "source": [
    "filters = listFilters(ensembl)"
   ]
  },
  {
   "cell_type": "code",
   "execution_count": 10,
   "metadata": {},
   "outputs": [
    {
     "data": {
      "text/html": [
       "<table>\n",
       "<caption>A data.frame: 5 × 2</caption>\n",
       "<thead>\n",
       "\t<tr><th scope=col>name</th><th scope=col>description</th></tr>\n",
       "\t<tr><th scope=col>&lt;chr&gt;</th><th scope=col>&lt;chr&gt;</th></tr>\n",
       "</thead>\n",
       "<tbody>\n",
       "\t<tr><td>chromosome_name</td><td>Chromosome/scaffold name</td></tr>\n",
       "\t<tr><td>start          </td><td>Start                   </td></tr>\n",
       "\t<tr><td>end            </td><td>End                     </td></tr>\n",
       "\t<tr><td>band_start     </td><td>Band Start              </td></tr>\n",
       "\t<tr><td>band_end       </td><td>Band End                </td></tr>\n",
       "</tbody>\n",
       "</table>\n"
      ],
      "text/latex": [
       "A data.frame: 5 × 2\n",
       "\\begin{tabular}{r|ll}\n",
       " name & description\\\\\n",
       " <chr> & <chr>\\\\\n",
       "\\hline\n",
       "\t chromosome\\_name & Chromosome/scaffold name\\\\\n",
       "\t start           & Start                   \\\\\n",
       "\t end             & End                     \\\\\n",
       "\t band\\_start      & Band Start              \\\\\n",
       "\t band\\_end        & Band End                \\\\\n",
       "\\end{tabular}\n"
      ],
      "text/markdown": [
       "\n",
       "A data.frame: 5 × 2\n",
       "\n",
       "| name &lt;chr&gt; | description &lt;chr&gt; |\n",
       "|---|---|\n",
       "| chromosome_name | Chromosome/scaffold name |\n",
       "| start           | Start                    |\n",
       "| end             | End                      |\n",
       "| band_start      | Band Start               |\n",
       "| band_end        | Band End                 |\n",
       "\n"
      ],
      "text/plain": [
       "  name            description             \n",
       "1 chromosome_name Chromosome/scaffold name\n",
       "2 start           Start                   \n",
       "3 end             End                     \n",
       "4 band_start      Band Start              \n",
       "5 band_end        Band End                "
      ]
     },
     "metadata": {},
     "output_type": "display_data"
    }
   ],
   "source": [
    "filters[1:5,]"
   ]
  },
  {
   "cell_type": "code",
   "execution_count": 11,
   "metadata": {},
   "outputs": [],
   "source": [
    "attributes = listAttributes(ensembl)"
   ]
  },
  {
   "cell_type": "code",
   "execution_count": 12,
   "metadata": {},
   "outputs": [
    {
     "data": {
      "text/html": [
       "<table>\n",
       "<caption>A data.frame: 5 × 3</caption>\n",
       "<thead>\n",
       "\t<tr><th scope=col>name</th><th scope=col>description</th><th scope=col>page</th></tr>\n",
       "\t<tr><th scope=col>&lt;chr&gt;</th><th scope=col>&lt;chr&gt;</th><th scope=col>&lt;chr&gt;</th></tr>\n",
       "</thead>\n",
       "<tbody>\n",
       "\t<tr><td>ensembl_gene_id              </td><td>Gene stable ID              </td><td>feature_page</td></tr>\n",
       "\t<tr><td>ensembl_gene_id_version      </td><td>Gene stable ID version      </td><td>feature_page</td></tr>\n",
       "\t<tr><td>ensembl_transcript_id        </td><td>Transcript stable ID        </td><td>feature_page</td></tr>\n",
       "\t<tr><td>ensembl_transcript_id_version</td><td>Transcript stable ID version</td><td>feature_page</td></tr>\n",
       "\t<tr><td>ensembl_peptide_id           </td><td>Protein stable ID           </td><td>feature_page</td></tr>\n",
       "</tbody>\n",
       "</table>\n"
      ],
      "text/latex": [
       "A data.frame: 5 × 3\n",
       "\\begin{tabular}{r|lll}\n",
       " name & description & page\\\\\n",
       " <chr> & <chr> & <chr>\\\\\n",
       "\\hline\n",
       "\t ensembl\\_gene\\_id               & Gene stable ID               & feature\\_page\\\\\n",
       "\t ensembl\\_gene\\_id\\_version       & Gene stable ID version       & feature\\_page\\\\\n",
       "\t ensembl\\_transcript\\_id         & Transcript stable ID         & feature\\_page\\\\\n",
       "\t ensembl\\_transcript\\_id\\_version & Transcript stable ID version & feature\\_page\\\\\n",
       "\t ensembl\\_peptide\\_id            & Protein stable ID            & feature\\_page\\\\\n",
       "\\end{tabular}\n"
      ],
      "text/markdown": [
       "\n",
       "A data.frame: 5 × 3\n",
       "\n",
       "| name &lt;chr&gt; | description &lt;chr&gt; | page &lt;chr&gt; |\n",
       "|---|---|---|\n",
       "| ensembl_gene_id               | Gene stable ID               | feature_page |\n",
       "| ensembl_gene_id_version       | Gene stable ID version       | feature_page |\n",
       "| ensembl_transcript_id         | Transcript stable ID         | feature_page |\n",
       "| ensembl_transcript_id_version | Transcript stable ID version | feature_page |\n",
       "| ensembl_peptide_id            | Protein stable ID            | feature_page |\n",
       "\n"
      ],
      "text/plain": [
       "  name                          description                  page        \n",
       "1 ensembl_gene_id               Gene stable ID               feature_page\n",
       "2 ensembl_gene_id_version       Gene stable ID version       feature_page\n",
       "3 ensembl_transcript_id         Transcript stable ID         feature_page\n",
       "4 ensembl_transcript_id_version Transcript stable ID version feature_page\n",
       "5 ensembl_peptide_id            Protein stable ID            feature_page"
      ]
     },
     "metadata": {},
     "output_type": "display_data"
    }
   ],
   "source": [
    "attributes[1:5,]"
   ]
  },
  {
   "cell_type": "code",
   "execution_count": 13,
   "metadata": {},
   "outputs": [
    {
     "data": {
      "text/html": [
       "<table>\n",
       "<caption>A data.frame: 1418 × 3</caption>\n",
       "<thead>\n",
       "\t<tr><th scope=col>name</th><th scope=col>description</th><th scope=col>page</th></tr>\n",
       "\t<tr><th scope=col>&lt;chr&gt;</th><th scope=col>&lt;chr&gt;</th><th scope=col>&lt;chr&gt;</th></tr>\n",
       "</thead>\n",
       "<tbody>\n",
       "\t<tr><td>ensembl_gene_id                </td><td>Gene stable ID                            </td><td>feature_page</td></tr>\n",
       "\t<tr><td>ensembl_gene_id_version        </td><td>Gene stable ID version                    </td><td>feature_page</td></tr>\n",
       "\t<tr><td>ensembl_transcript_id          </td><td>Transcript stable ID                      </td><td>feature_page</td></tr>\n",
       "\t<tr><td>ensembl_transcript_id_version  </td><td>Transcript stable ID version              </td><td>feature_page</td></tr>\n",
       "\t<tr><td>ensembl_peptide_id             </td><td>Protein stable ID                         </td><td>feature_page</td></tr>\n",
       "\t<tr><td>ensembl_peptide_id_version     </td><td>Protein stable ID version                 </td><td>feature_page</td></tr>\n",
       "\t<tr><td>ensembl_exon_id                </td><td>Exon stable ID                            </td><td>feature_page</td></tr>\n",
       "\t<tr><td>description                    </td><td>Gene description                          </td><td>feature_page</td></tr>\n",
       "\t<tr><td>chromosome_name                </td><td>Chromosome/scaffold name                  </td><td>feature_page</td></tr>\n",
       "\t<tr><td>start_position                 </td><td>Gene start (bp)                           </td><td>feature_page</td></tr>\n",
       "\t<tr><td>end_position                   </td><td>Gene end (bp)                             </td><td>feature_page</td></tr>\n",
       "\t<tr><td>strand                         </td><td>Strand                                    </td><td>feature_page</td></tr>\n",
       "\t<tr><td>band                           </td><td>Karyotype band                            </td><td>feature_page</td></tr>\n",
       "\t<tr><td>transcript_start               </td><td>Transcript start (bp)                     </td><td>feature_page</td></tr>\n",
       "\t<tr><td>transcript_end                 </td><td>Transcript end (bp)                       </td><td>feature_page</td></tr>\n",
       "\t<tr><td>transcription_start_site       </td><td>Transcription start site (TSS)            </td><td>feature_page</td></tr>\n",
       "\t<tr><td>transcript_length              </td><td>Transcript length (including UTRs and CDS)</td><td>feature_page</td></tr>\n",
       "\t<tr><td>transcript_gencode_basic       </td><td>GENCODE basic annotation                  </td><td>feature_page</td></tr>\n",
       "\t<tr><td>external_gene_name             </td><td>Gene name                                 </td><td>feature_page</td></tr>\n",
       "\t<tr><td>external_gene_source           </td><td>Source of gene name                       </td><td>feature_page</td></tr>\n",
       "\t<tr><td>external_transcript_name       </td><td>Transcript name                           </td><td>feature_page</td></tr>\n",
       "\t<tr><td>external_transcript_source_name</td><td>Source of transcript name                 </td><td>feature_page</td></tr>\n",
       "\t<tr><td>transcript_count               </td><td>Transcript count                          </td><td>feature_page</td></tr>\n",
       "\t<tr><td>percentage_gene_gc_content     </td><td>Gene % GC content                         </td><td>feature_page</td></tr>\n",
       "\t<tr><td>gene_biotype                   </td><td>Gene type                                 </td><td>feature_page</td></tr>\n",
       "\t<tr><td>transcript_biotype             </td><td>Transcript type                           </td><td>feature_page</td></tr>\n",
       "\t<tr><td>source                         </td><td>Source (gene)                             </td><td>feature_page</td></tr>\n",
       "\t<tr><td>transcript_source              </td><td>Source (transcript)                       </td><td>feature_page</td></tr>\n",
       "\t<tr><td>version                        </td><td>Version (gene)                            </td><td>feature_page</td></tr>\n",
       "\t<tr><td>transcript_version             </td><td>Version (transcript)                      </td><td>feature_page</td></tr>\n",
       "\t<tr><td>⋮</td><td>⋮</td><td>⋮</td></tr>\n",
       "\t<tr><td>uniprotsptrembl         </td><td>UniProtKB/TrEMBL ID                       </td><td>sequences</td></tr>\n",
       "\t<tr><td>cdna_coding_start       </td><td>CDS start (within cDNA)                   </td><td>sequences</td></tr>\n",
       "\t<tr><td>cdna_coding_end         </td><td>CDS end (within cDNA)                     </td><td>sequences</td></tr>\n",
       "\t<tr><td>5_utr_start             </td><td>5' UTR start                              </td><td>sequences</td></tr>\n",
       "\t<tr><td>5_utr_end               </td><td>5' UTR end                                </td><td>sequences</td></tr>\n",
       "\t<tr><td>3_utr_start             </td><td>3' UTR start                              </td><td>sequences</td></tr>\n",
       "\t<tr><td>3_utr_end               </td><td>3' UTR end                                </td><td>sequences</td></tr>\n",
       "\t<tr><td>ensembl_transcript_id   </td><td>Transcript stable ID                      </td><td>sequences</td></tr>\n",
       "\t<tr><td>ensembl_peptide_id      </td><td>Protein stable ID                         </td><td>sequences</td></tr>\n",
       "\t<tr><td>transcript_biotype      </td><td>Transcript type                           </td><td>sequences</td></tr>\n",
       "\t<tr><td>strand                  </td><td>Strand                                    </td><td>sequences</td></tr>\n",
       "\t<tr><td>transcript_start        </td><td>Transcript start (bp)                     </td><td>sequences</td></tr>\n",
       "\t<tr><td>transcript_end          </td><td>Transcript end (bp)                       </td><td>sequences</td></tr>\n",
       "\t<tr><td>transcription_start_site</td><td>Transcription start site (TSS)            </td><td>sequences</td></tr>\n",
       "\t<tr><td>transcript_length       </td><td>Transcript length (including UTRs and CDS)</td><td>sequences</td></tr>\n",
       "\t<tr><td>cds_length              </td><td>CDS Length                                </td><td>sequences</td></tr>\n",
       "\t<tr><td>cds_start               </td><td>CDS start                                 </td><td>sequences</td></tr>\n",
       "\t<tr><td>cds_end                 </td><td>CDS end                                   </td><td>sequences</td></tr>\n",
       "\t<tr><td>ensembl_exon_id         </td><td>Exon stable ID                            </td><td>sequences</td></tr>\n",
       "\t<tr><td>exon_chrom_start        </td><td>Exon region start (bp)                    </td><td>sequences</td></tr>\n",
       "\t<tr><td>exon_chrom_end          </td><td>Exon region end (bp)                      </td><td>sequences</td></tr>\n",
       "\t<tr><td>strand                  </td><td>Strand                                    </td><td>sequences</td></tr>\n",
       "\t<tr><td>rank                    </td><td>Exon rank in transcript                   </td><td>sequences</td></tr>\n",
       "\t<tr><td>phase                   </td><td>Start phase                               </td><td>sequences</td></tr>\n",
       "\t<tr><td>end_phase               </td><td>End phase                                 </td><td>sequences</td></tr>\n",
       "\t<tr><td>cdna_coding_start       </td><td>cDNA coding start                         </td><td>sequences</td></tr>\n",
       "\t<tr><td>cdna_coding_end         </td><td>cDNA coding end                           </td><td>sequences</td></tr>\n",
       "\t<tr><td>genomic_coding_start    </td><td>Genomic coding start                      </td><td>sequences</td></tr>\n",
       "\t<tr><td>genomic_coding_end      </td><td>Genomic coding end                        </td><td>sequences</td></tr>\n",
       "\t<tr><td>is_constitutive         </td><td>Constitutive exon                         </td><td>sequences</td></tr>\n",
       "</tbody>\n",
       "</table>\n"
      ],
      "text/latex": [
       "A data.frame: 1418 × 3\n",
       "\\begin{tabular}{r|lll}\n",
       " name & description & page\\\\\n",
       " <chr> & <chr> & <chr>\\\\\n",
       "\\hline\n",
       "\t ensembl\\_gene\\_id                 & Gene stable ID                             & feature\\_page\\\\\n",
       "\t ensembl\\_gene\\_id\\_version         & Gene stable ID version                     & feature\\_page\\\\\n",
       "\t ensembl\\_transcript\\_id           & Transcript stable ID                       & feature\\_page\\\\\n",
       "\t ensembl\\_transcript\\_id\\_version   & Transcript stable ID version               & feature\\_page\\\\\n",
       "\t ensembl\\_peptide\\_id              & Protein stable ID                          & feature\\_page\\\\\n",
       "\t ensembl\\_peptide\\_id\\_version      & Protein stable ID version                  & feature\\_page\\\\\n",
       "\t ensembl\\_exon\\_id                 & Exon stable ID                             & feature\\_page\\\\\n",
       "\t description                     & Gene description                           & feature\\_page\\\\\n",
       "\t chromosome\\_name                 & Chromosome/scaffold name                   & feature\\_page\\\\\n",
       "\t start\\_position                  & Gene start (bp)                            & feature\\_page\\\\\n",
       "\t end\\_position                    & Gene end (bp)                              & feature\\_page\\\\\n",
       "\t strand                          & Strand                                     & feature\\_page\\\\\n",
       "\t band                            & Karyotype band                             & feature\\_page\\\\\n",
       "\t transcript\\_start                & Transcript start (bp)                      & feature\\_page\\\\\n",
       "\t transcript\\_end                  & Transcript end (bp)                        & feature\\_page\\\\\n",
       "\t transcription\\_start\\_site        & Transcription start site (TSS)             & feature\\_page\\\\\n",
       "\t transcript\\_length               & Transcript length (including UTRs and CDS) & feature\\_page\\\\\n",
       "\t transcript\\_gencode\\_basic        & GENCODE basic annotation                   & feature\\_page\\\\\n",
       "\t external\\_gene\\_name              & Gene name                                  & feature\\_page\\\\\n",
       "\t external\\_gene\\_source            & Source of gene name                        & feature\\_page\\\\\n",
       "\t external\\_transcript\\_name        & Transcript name                            & feature\\_page\\\\\n",
       "\t external\\_transcript\\_source\\_name & Source of transcript name                  & feature\\_page\\\\\n",
       "\t transcript\\_count                & Transcript count                           & feature\\_page\\\\\n",
       "\t percentage\\_gene\\_gc\\_content      & Gene \\% GC content                          & feature\\_page\\\\\n",
       "\t gene\\_biotype                    & Gene type                                  & feature\\_page\\\\\n",
       "\t transcript\\_biotype              & Transcript type                            & feature\\_page\\\\\n",
       "\t source                          & Source (gene)                              & feature\\_page\\\\\n",
       "\t transcript\\_source               & Source (transcript)                        & feature\\_page\\\\\n",
       "\t version                         & Version (gene)                             & feature\\_page\\\\\n",
       "\t transcript\\_version              & Version (transcript)                       & feature\\_page\\\\\n",
       "\t ⋮ & ⋮ & ⋮\\\\\n",
       "\t uniprotsptrembl          & UniProtKB/TrEMBL ID                        & sequences\\\\\n",
       "\t cdna\\_coding\\_start        & CDS start (within cDNA)                    & sequences\\\\\n",
       "\t cdna\\_coding\\_end          & CDS end (within cDNA)                      & sequences\\\\\n",
       "\t 5\\_utr\\_start              & 5' UTR start                               & sequences\\\\\n",
       "\t 5\\_utr\\_end                & 5' UTR end                                 & sequences\\\\\n",
       "\t 3\\_utr\\_start              & 3' UTR start                               & sequences\\\\\n",
       "\t 3\\_utr\\_end                & 3' UTR end                                 & sequences\\\\\n",
       "\t ensembl\\_transcript\\_id    & Transcript stable ID                       & sequences\\\\\n",
       "\t ensembl\\_peptide\\_id       & Protein stable ID                          & sequences\\\\\n",
       "\t transcript\\_biotype       & Transcript type                            & sequences\\\\\n",
       "\t strand                   & Strand                                     & sequences\\\\\n",
       "\t transcript\\_start         & Transcript start (bp)                      & sequences\\\\\n",
       "\t transcript\\_end           & Transcript end (bp)                        & sequences\\\\\n",
       "\t transcription\\_start\\_site & Transcription start site (TSS)             & sequences\\\\\n",
       "\t transcript\\_length        & Transcript length (including UTRs and CDS) & sequences\\\\\n",
       "\t cds\\_length               & CDS Length                                 & sequences\\\\\n",
       "\t cds\\_start                & CDS start                                  & sequences\\\\\n",
       "\t cds\\_end                  & CDS end                                    & sequences\\\\\n",
       "\t ensembl\\_exon\\_id          & Exon stable ID                             & sequences\\\\\n",
       "\t exon\\_chrom\\_start         & Exon region start (bp)                     & sequences\\\\\n",
       "\t exon\\_chrom\\_end           & Exon region end (bp)                       & sequences\\\\\n",
       "\t strand                   & Strand                                     & sequences\\\\\n",
       "\t rank                     & Exon rank in transcript                    & sequences\\\\\n",
       "\t phase                    & Start phase                                & sequences\\\\\n",
       "\t end\\_phase                & End phase                                  & sequences\\\\\n",
       "\t cdna\\_coding\\_start        & cDNA coding start                          & sequences\\\\\n",
       "\t cdna\\_coding\\_end          & cDNA coding end                            & sequences\\\\\n",
       "\t genomic\\_coding\\_start     & Genomic coding start                       & sequences\\\\\n",
       "\t genomic\\_coding\\_end       & Genomic coding end                         & sequences\\\\\n",
       "\t is\\_constitutive          & Constitutive exon                          & sequences\\\\\n",
       "\\end{tabular}\n"
      ],
      "text/markdown": [
       "\n",
       "A data.frame: 1418 × 3\n",
       "\n",
       "| name &lt;chr&gt; | description &lt;chr&gt; | page &lt;chr&gt; |\n",
       "|---|---|---|\n",
       "| ensembl_gene_id                 | Gene stable ID                             | feature_page |\n",
       "| ensembl_gene_id_version         | Gene stable ID version                     | feature_page |\n",
       "| ensembl_transcript_id           | Transcript stable ID                       | feature_page |\n",
       "| ensembl_transcript_id_version   | Transcript stable ID version               | feature_page |\n",
       "| ensembl_peptide_id              | Protein stable ID                          | feature_page |\n",
       "| ensembl_peptide_id_version      | Protein stable ID version                  | feature_page |\n",
       "| ensembl_exon_id                 | Exon stable ID                             | feature_page |\n",
       "| description                     | Gene description                           | feature_page |\n",
       "| chromosome_name                 | Chromosome/scaffold name                   | feature_page |\n",
       "| start_position                  | Gene start (bp)                            | feature_page |\n",
       "| end_position                    | Gene end (bp)                              | feature_page |\n",
       "| strand                          | Strand                                     | feature_page |\n",
       "| band                            | Karyotype band                             | feature_page |\n",
       "| transcript_start                | Transcript start (bp)                      | feature_page |\n",
       "| transcript_end                  | Transcript end (bp)                        | feature_page |\n",
       "| transcription_start_site        | Transcription start site (TSS)             | feature_page |\n",
       "| transcript_length               | Transcript length (including UTRs and CDS) | feature_page |\n",
       "| transcript_gencode_basic        | GENCODE basic annotation                   | feature_page |\n",
       "| external_gene_name              | Gene name                                  | feature_page |\n",
       "| external_gene_source            | Source of gene name                        | feature_page |\n",
       "| external_transcript_name        | Transcript name                            | feature_page |\n",
       "| external_transcript_source_name | Source of transcript name                  | feature_page |\n",
       "| transcript_count                | Transcript count                           | feature_page |\n",
       "| percentage_gene_gc_content      | Gene % GC content                          | feature_page |\n",
       "| gene_biotype                    | Gene type                                  | feature_page |\n",
       "| transcript_biotype              | Transcript type                            | feature_page |\n",
       "| source                          | Source (gene)                              | feature_page |\n",
       "| transcript_source               | Source (transcript)                        | feature_page |\n",
       "| version                         | Version (gene)                             | feature_page |\n",
       "| transcript_version              | Version (transcript)                       | feature_page |\n",
       "| ⋮ | ⋮ | ⋮ |\n",
       "| uniprotsptrembl          | UniProtKB/TrEMBL ID                        | sequences |\n",
       "| cdna_coding_start        | CDS start (within cDNA)                    | sequences |\n",
       "| cdna_coding_end          | CDS end (within cDNA)                      | sequences |\n",
       "| 5_utr_start              | 5' UTR start                               | sequences |\n",
       "| 5_utr_end                | 5' UTR end                                 | sequences |\n",
       "| 3_utr_start              | 3' UTR start                               | sequences |\n",
       "| 3_utr_end                | 3' UTR end                                 | sequences |\n",
       "| ensembl_transcript_id    | Transcript stable ID                       | sequences |\n",
       "| ensembl_peptide_id       | Protein stable ID                          | sequences |\n",
       "| transcript_biotype       | Transcript type                            | sequences |\n",
       "| strand                   | Strand                                     | sequences |\n",
       "| transcript_start         | Transcript start (bp)                      | sequences |\n",
       "| transcript_end           | Transcript end (bp)                        | sequences |\n",
       "| transcription_start_site | Transcription start site (TSS)             | sequences |\n",
       "| transcript_length        | Transcript length (including UTRs and CDS) | sequences |\n",
       "| cds_length               | CDS Length                                 | sequences |\n",
       "| cds_start                | CDS start                                  | sequences |\n",
       "| cds_end                  | CDS end                                    | sequences |\n",
       "| ensembl_exon_id          | Exon stable ID                             | sequences |\n",
       "| exon_chrom_start         | Exon region start (bp)                     | sequences |\n",
       "| exon_chrom_end           | Exon region end (bp)                       | sequences |\n",
       "| strand                   | Strand                                     | sequences |\n",
       "| rank                     | Exon rank in transcript                    | sequences |\n",
       "| phase                    | Start phase                                | sequences |\n",
       "| end_phase                | End phase                                  | sequences |\n",
       "| cdna_coding_start        | cDNA coding start                          | sequences |\n",
       "| cdna_coding_end          | cDNA coding end                            | sequences |\n",
       "| genomic_coding_start     | Genomic coding start                       | sequences |\n",
       "| genomic_coding_end       | Genomic coding end                         | sequences |\n",
       "| is_constitutive          | Constitutive exon                          | sequences |\n",
       "\n"
      ],
      "text/plain": [
       "     name                            description                               \n",
       "1    ensembl_gene_id                 Gene stable ID                            \n",
       "2    ensembl_gene_id_version         Gene stable ID version                    \n",
       "3    ensembl_transcript_id           Transcript stable ID                      \n",
       "4    ensembl_transcript_id_version   Transcript stable ID version              \n",
       "5    ensembl_peptide_id              Protein stable ID                         \n",
       "6    ensembl_peptide_id_version      Protein stable ID version                 \n",
       "7    ensembl_exon_id                 Exon stable ID                            \n",
       "8    description                     Gene description                          \n",
       "9    chromosome_name                 Chromosome/scaffold name                  \n",
       "10   start_position                  Gene start (bp)                           \n",
       "11   end_position                    Gene end (bp)                             \n",
       "12   strand                          Strand                                    \n",
       "13   band                            Karyotype band                            \n",
       "14   transcript_start                Transcript start (bp)                     \n",
       "15   transcript_end                  Transcript end (bp)                       \n",
       "16   transcription_start_site        Transcription start site (TSS)            \n",
       "17   transcript_length               Transcript length (including UTRs and CDS)\n",
       "18   transcript_gencode_basic        GENCODE basic annotation                  \n",
       "19   external_gene_name              Gene name                                 \n",
       "20   external_gene_source            Source of gene name                       \n",
       "21   external_transcript_name        Transcript name                           \n",
       "22   external_transcript_source_name Source of transcript name                 \n",
       "23   transcript_count                Transcript count                          \n",
       "24   percentage_gene_gc_content      Gene % GC content                         \n",
       "25   gene_biotype                    Gene type                                 \n",
       "26   transcript_biotype              Transcript type                           \n",
       "27   source                          Source (gene)                             \n",
       "28   transcript_source               Source (transcript)                       \n",
       "29   version                         Version (gene)                            \n",
       "30   transcript_version              Version (transcript)                      \n",
       "⋮    ⋮                               ⋮                                         \n",
       "1389 uniprotsptrembl                 UniProtKB/TrEMBL ID                       \n",
       "1390 cdna_coding_start               CDS start (within cDNA)                   \n",
       "1391 cdna_coding_end                 CDS end (within cDNA)                     \n",
       "1392 5_utr_start                     5' UTR start                              \n",
       "1393 5_utr_end                       5' UTR end                                \n",
       "1394 3_utr_start                     3' UTR start                              \n",
       "1395 3_utr_end                       3' UTR end                                \n",
       "1396 ensembl_transcript_id           Transcript stable ID                      \n",
       "1397 ensembl_peptide_id              Protein stable ID                         \n",
       "1398 transcript_biotype              Transcript type                           \n",
       "1399 strand                          Strand                                    \n",
       "1400 transcript_start                Transcript start (bp)                     \n",
       "1401 transcript_end                  Transcript end (bp)                       \n",
       "1402 transcription_start_site        Transcription start site (TSS)            \n",
       "1403 transcript_length               Transcript length (including UTRs and CDS)\n",
       "1404 cds_length                      CDS Length                                \n",
       "1405 cds_start                       CDS start                                 \n",
       "1406 cds_end                         CDS end                                   \n",
       "1407 ensembl_exon_id                 Exon stable ID                            \n",
       "1408 exon_chrom_start                Exon region start (bp)                    \n",
       "1409 exon_chrom_end                  Exon region end (bp)                      \n",
       "1410 strand                          Strand                                    \n",
       "1411 rank                            Exon rank in transcript                   \n",
       "1412 phase                           Start phase                               \n",
       "1413 end_phase                       End phase                                 \n",
       "1414 cdna_coding_start               cDNA coding start                         \n",
       "1415 cdna_coding_end                 cDNA coding end                           \n",
       "1416 genomic_coding_start            Genomic coding start                      \n",
       "1417 genomic_coding_end              Genomic coding end                        \n",
       "1418 is_constitutive                 Constitutive exon                         \n",
       "     page        \n",
       "1    feature_page\n",
       "2    feature_page\n",
       "3    feature_page\n",
       "4    feature_page\n",
       "5    feature_page\n",
       "6    feature_page\n",
       "7    feature_page\n",
       "8    feature_page\n",
       "9    feature_page\n",
       "10   feature_page\n",
       "11   feature_page\n",
       "12   feature_page\n",
       "13   feature_page\n",
       "14   feature_page\n",
       "15   feature_page\n",
       "16   feature_page\n",
       "17   feature_page\n",
       "18   feature_page\n",
       "19   feature_page\n",
       "20   feature_page\n",
       "21   feature_page\n",
       "22   feature_page\n",
       "23   feature_page\n",
       "24   feature_page\n",
       "25   feature_page\n",
       "26   feature_page\n",
       "27   feature_page\n",
       "28   feature_page\n",
       "29   feature_page\n",
       "30   feature_page\n",
       "⋮    ⋮           \n",
       "1389 sequences   \n",
       "1390 sequences   \n",
       "1391 sequences   \n",
       "1392 sequences   \n",
       "1393 sequences   \n",
       "1394 sequences   \n",
       "1395 sequences   \n",
       "1396 sequences   \n",
       "1397 sequences   \n",
       "1398 sequences   \n",
       "1399 sequences   \n",
       "1400 sequences   \n",
       "1401 sequences   \n",
       "1402 sequences   \n",
       "1403 sequences   \n",
       "1404 sequences   \n",
       "1405 sequences   \n",
       "1406 sequences   \n",
       "1407 sequences   \n",
       "1408 sequences   \n",
       "1409 sequences   \n",
       "1410 sequences   \n",
       "1411 sequences   \n",
       "1412 sequences   \n",
       "1413 sequences   \n",
       "1414 sequences   \n",
       "1415 sequences   \n",
       "1416 sequences   \n",
       "1417 sequences   \n",
       "1418 sequences   "
      ]
     },
     "metadata": {},
     "output_type": "display_data"
    }
   ],
   "source": [
    "attributes"
   ]
  },
  {
   "cell_type": "code",
   "execution_count": 14,
   "metadata": {},
   "outputs": [],
   "source": [
    "filters_chrname = c(seq(1,22),'X','Y')\n",
    "df_hg19_anno = getBM(attributes = c('chromosome_name', 'start_position', 'end_position',\n",
    "                   'external_gene_name'),\n",
    "      filters = 'chromosome_name', \n",
    "      values = filters_chrname, \n",
    "      mart = ensembl)"
   ]
  },
  {
   "cell_type": "code",
   "execution_count": 17,
   "metadata": {},
   "outputs": [],
   "source": [
    "df_hg19_anno$chromosome_name = paste0('chr',df_hg19_anno$chromosome_name)"
   ]
  },
  {
   "cell_type": "code",
   "execution_count": 18,
   "metadata": {},
   "outputs": [
    {
     "data": {
      "text/html": [
       "<table>\n",
       "<caption>A data.frame: 6 × 4</caption>\n",
       "<thead>\n",
       "\t<tr><th scope=col>chromosome_name</th><th scope=col>start_position</th><th scope=col>end_position</th><th scope=col>external_gene_name</th></tr>\n",
       "\t<tr><th scope=col>&lt;chr&gt;</th><th scope=col>&lt;int&gt;</th><th scope=col>&lt;int&gt;</th><th scope=col>&lt;chr&gt;</th></tr>\n",
       "</thead>\n",
       "<tbody>\n",
       "\t<tr><td>chr1</td><td> 50902700</td><td> 50902978</td><td>RP5-850O15.4</td></tr>\n",
       "\t<tr><td>chr1</td><td>103817769</td><td>103828355</td><td>RP11-347K2.1</td></tr>\n",
       "\t<tr><td>chr1</td><td> 50927141</td><td> 50936822</td><td>RP5-850O15.3</td></tr>\n",
       "\t<tr><td>chr1</td><td> 50965430</td><td> 50965529</td><td>Y_RNA       </td></tr>\n",
       "\t<tr><td>chr1</td><td> 51048076</td><td> 51048183</td><td>RNU6-1026P  </td></tr>\n",
       "\t<tr><td>chr1</td><td> 51215968</td><td> 51216025</td><td>RNU6-1253P  </td></tr>\n",
       "</tbody>\n",
       "</table>\n"
      ],
      "text/latex": [
       "A data.frame: 6 × 4\n",
       "\\begin{tabular}{r|llll}\n",
       " chromosome\\_name & start\\_position & end\\_position & external\\_gene\\_name\\\\\n",
       " <chr> & <int> & <int> & <chr>\\\\\n",
       "\\hline\n",
       "\t chr1 &  50902700 &  50902978 & RP5-850O15.4\\\\\n",
       "\t chr1 & 103817769 & 103828355 & RP11-347K2.1\\\\\n",
       "\t chr1 &  50927141 &  50936822 & RP5-850O15.3\\\\\n",
       "\t chr1 &  50965430 &  50965529 & Y\\_RNA       \\\\\n",
       "\t chr1 &  51048076 &  51048183 & RNU6-1026P  \\\\\n",
       "\t chr1 &  51215968 &  51216025 & RNU6-1253P  \\\\\n",
       "\\end{tabular}\n"
      ],
      "text/markdown": [
       "\n",
       "A data.frame: 6 × 4\n",
       "\n",
       "| chromosome_name &lt;chr&gt; | start_position &lt;int&gt; | end_position &lt;int&gt; | external_gene_name &lt;chr&gt; |\n",
       "|---|---|---|---|\n",
       "| chr1 |  50902700 |  50902978 | RP5-850O15.4 |\n",
       "| chr1 | 103817769 | 103828355 | RP11-347K2.1 |\n",
       "| chr1 |  50927141 |  50936822 | RP5-850O15.3 |\n",
       "| chr1 |  50965430 |  50965529 | Y_RNA        |\n",
       "| chr1 |  51048076 |  51048183 | RNU6-1026P   |\n",
       "| chr1 |  51215968 |  51216025 | RNU6-1253P   |\n",
       "\n"
      ],
      "text/plain": [
       "  chromosome_name start_position end_position external_gene_name\n",
       "1 chr1             50902700       50902978    RP5-850O15.4      \n",
       "2 chr1            103817769      103828355    RP11-347K2.1      \n",
       "3 chr1             50927141       50936822    RP5-850O15.3      \n",
       "4 chr1             50965430       50965529    Y_RNA             \n",
       "5 chr1             51048076       51048183    RNU6-1026P        \n",
       "6 chr1             51215968       51216025    RNU6-1253P        "
      ]
     },
     "metadata": {},
     "output_type": "display_data"
    }
   ],
   "source": [
    "head(df_hg19_anno)"
   ]
  },
  {
   "cell_type": "code",
   "execution_count": 19,
   "metadata": {},
   "outputs": [],
   "source": [
    "write.table(df_hg19_anno, file=\"biomart_hg19_gene.bed\", quote=F, sep=\"\\t\", row.names=F, col.names=F)"
   ]
  },
  {
   "cell_type": "code",
   "execution_count": null,
   "metadata": {},
   "outputs": [],
   "source": []
  }
 ],
 "metadata": {
  "kernelspec": {
   "display_name": "R [conda env:biotools_huidong]",
   "language": "R",
   "name": "conda-env-biotools_huidong-r"
  },
  "language_info": {
   "codemirror_mode": "r",
   "file_extension": ".r",
   "mimetype": "text/x-r-source",
   "name": "R",
   "pygments_lexer": "r",
   "version": "3.5.1"
  }
 },
 "nbformat": 4,
 "nbformat_minor": 2
}
